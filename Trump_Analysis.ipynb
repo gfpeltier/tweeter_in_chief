{
 "cells": [
  {
   "cell_type": "markdown",
   "metadata": {},
   "source": [
    "## Trump Tweet Analysis\n",
    "\n",
    "This is just some basic analysis of the first ~33,000 Trump tweets. Looking for word trends etc."
   ]
  },
  {
   "cell_type": "code",
   "execution_count": 48,
   "metadata": {},
   "outputs": [
    {
     "data": {
      "text/html": [
       "<div>\n",
       "<style scoped>\n",
       "    .dataframe tbody tr th:only-of-type {\n",
       "        vertical-align: middle;\n",
       "    }\n",
       "\n",
       "    .dataframe tbody tr th {\n",
       "        vertical-align: top;\n",
       "    }\n",
       "\n",
       "    .dataframe thead th {\n",
       "        text-align: right;\n",
       "    }\n",
       "</style>\n",
       "<table border=\"1\" class=\"dataframe\">\n",
       "  <thead>\n",
       "    <tr style=\"text-align: right;\">\n",
       "      <th></th>\n",
       "      <th>created_at</th>\n",
       "      <th>id_str</th>\n",
       "      <th>retweet_count</th>\n",
       "      <th>source</th>\n",
       "      <th>text</th>\n",
       "    </tr>\n",
       "  </thead>\n",
       "  <tbody>\n",
       "    <tr>\n",
       "      <th>0</th>\n",
       "      <td>2018-02-07 22:36:15</td>\n",
       "      <td>961368036782628864</td>\n",
       "      <td>8917</td>\n",
       "      <td>Twitter for iPhone</td>\n",
       "      <td>The Budget Agreement today is so important for...</td>\n",
       "    </tr>\n",
       "    <tr>\n",
       "      <th>1</th>\n",
       "      <td>2018-02-07 22:13:16</td>\n",
       "      <td>961362249880252416</td>\n",
       "      <td>4972</td>\n",
       "      <td>Media Studio</td>\n",
       "      <td>Congratulations to the Republic of Korea on wh...</td>\n",
       "    </tr>\n",
       "    <tr>\n",
       "      <th>2</th>\n",
       "      <td>2018-02-07 18:01:05</td>\n",
       "      <td>961298788219420672</td>\n",
       "      <td>8332</td>\n",
       "      <td>Media Studio</td>\n",
       "      <td>Best wishes to the Republic of Korea on hostin...</td>\n",
       "    </tr>\n",
       "    <tr>\n",
       "      <th>3</th>\n",
       "      <td>2018-02-07 16:10:00</td>\n",
       "      <td>961270833569202176</td>\n",
       "      <td>31114</td>\n",
       "      <td>Twitter for iPhone</td>\n",
       "      <td>NEW FBI TEXTS ARE BOMBSHELLS!</td>\n",
       "    </tr>\n",
       "    <tr>\n",
       "      <th>4</th>\n",
       "      <td>2018-02-07 14:59:49</td>\n",
       "      <td>961253168968622080</td>\n",
       "      <td>16301</td>\n",
       "      <td>Twitter for iPhone</td>\n",
       "      <td>In the â€œold days,â€� when good news was repo...</td>\n",
       "    </tr>\n",
       "  </tbody>\n",
       "</table>\n",
       "</div>"
      ],
      "text/plain": [
       "           created_at              id_str  retweet_count              source  \\\n",
       "0 2018-02-07 22:36:15  961368036782628864           8917  Twitter for iPhone   \n",
       "1 2018-02-07 22:13:16  961362249880252416           4972        Media Studio   \n",
       "2 2018-02-07 18:01:05  961298788219420672           8332        Media Studio   \n",
       "3 2018-02-07 16:10:00  961270833569202176          31114  Twitter for iPhone   \n",
       "4 2018-02-07 14:59:49  961253168968622080          16301  Twitter for iPhone   \n",
       "\n",
       "                                                text  \n",
       "0  The Budget Agreement today is so important for...  \n",
       "1  Congratulations to the Republic of Korea on wh...  \n",
       "2  Best wishes to the Republic of Korea on hostin...  \n",
       "3                      NEW FBI TEXTS ARE BOMBSHELLS!  \n",
       "4  In the â€œold days,â€� when good news was repo...  "
      ]
     },
     "execution_count": 48,
     "metadata": {},
     "output_type": "execute_result"
    }
   ],
   "source": [
    "import pandas as pd\n",
    "\n",
    "df = pd.read_json('trump_tweets_archive.json')\n",
    "df.head()"
   ]
  },
  {
   "cell_type": "markdown",
   "metadata": {},
   "source": [
    "First, going to look at breakdown of time-of-tweet frequency across years before and during presidency"
   ]
  },
  {
   "cell_type": "code",
   "execution_count": 56,
   "metadata": {},
   "outputs": [
    {
     "data": {
      "text/html": [
       "<div>\n",
       "<style scoped>\n",
       "    .dataframe tbody tr th:only-of-type {\n",
       "        vertical-align: middle;\n",
       "    }\n",
       "\n",
       "    .dataframe tbody tr th {\n",
       "        vertical-align: top;\n",
       "    }\n",
       "\n",
       "    .dataframe thead th {\n",
       "        text-align: right;\n",
       "    }\n",
       "</style>\n",
       "<table border=\"1\" class=\"dataframe\">\n",
       "  <thead>\n",
       "    <tr style=\"text-align: right;\">\n",
       "      <th></th>\n",
       "      <th>created_at</th>\n",
       "      <th>id_str</th>\n",
       "      <th>retweet_count</th>\n",
       "      <th>source</th>\n",
       "      <th>text</th>\n",
       "      <th>weekday</th>\n",
       "      <th>hour</th>\n",
       "      <th>year</th>\n",
       "      <th>weekday_str</th>\n",
       "      <th>month</th>\n",
       "    </tr>\n",
       "  </thead>\n",
       "  <tbody>\n",
       "    <tr>\n",
       "      <th>0</th>\n",
       "      <td>2018-02-07 22:36:15</td>\n",
       "      <td>961368036782628864</td>\n",
       "      <td>8917</td>\n",
       "      <td>Twitter for iPhone</td>\n",
       "      <td>The Budget Agreement today is so important for...</td>\n",
       "      <td>2</td>\n",
       "      <td>22</td>\n",
       "      <td>2018</td>\n",
       "      <td>Wednesday</td>\n",
       "      <td>2</td>\n",
       "    </tr>\n",
       "    <tr>\n",
       "      <th>1</th>\n",
       "      <td>2018-02-07 22:13:16</td>\n",
       "      <td>961362249880252416</td>\n",
       "      <td>4972</td>\n",
       "      <td>Media Studio</td>\n",
       "      <td>Congratulations to the Republic of Korea on wh...</td>\n",
       "      <td>2</td>\n",
       "      <td>22</td>\n",
       "      <td>2018</td>\n",
       "      <td>Wednesday</td>\n",
       "      <td>2</td>\n",
       "    </tr>\n",
       "    <tr>\n",
       "      <th>2</th>\n",
       "      <td>2018-02-07 18:01:05</td>\n",
       "      <td>961298788219420672</td>\n",
       "      <td>8332</td>\n",
       "      <td>Media Studio</td>\n",
       "      <td>Best wishes to the Republic of Korea on hostin...</td>\n",
       "      <td>2</td>\n",
       "      <td>18</td>\n",
       "      <td>2018</td>\n",
       "      <td>Wednesday</td>\n",
       "      <td>2</td>\n",
       "    </tr>\n",
       "    <tr>\n",
       "      <th>3</th>\n",
       "      <td>2018-02-07 16:10:00</td>\n",
       "      <td>961270833569202176</td>\n",
       "      <td>31114</td>\n",
       "      <td>Twitter for iPhone</td>\n",
       "      <td>NEW FBI TEXTS ARE BOMBSHELLS!</td>\n",
       "      <td>2</td>\n",
       "      <td>16</td>\n",
       "      <td>2018</td>\n",
       "      <td>Wednesday</td>\n",
       "      <td>2</td>\n",
       "    </tr>\n",
       "    <tr>\n",
       "      <th>4</th>\n",
       "      <td>2018-02-07 14:59:49</td>\n",
       "      <td>961253168968622080</td>\n",
       "      <td>16301</td>\n",
       "      <td>Twitter for iPhone</td>\n",
       "      <td>In the â€œold days,â€� when good news was repo...</td>\n",
       "      <td>2</td>\n",
       "      <td>14</td>\n",
       "      <td>2018</td>\n",
       "      <td>Wednesday</td>\n",
       "      <td>2</td>\n",
       "    </tr>\n",
       "  </tbody>\n",
       "</table>\n",
       "</div>"
      ],
      "text/plain": [
       "           created_at              id_str  retweet_count              source  \\\n",
       "0 2018-02-07 22:36:15  961368036782628864           8917  Twitter for iPhone   \n",
       "1 2018-02-07 22:13:16  961362249880252416           4972        Media Studio   \n",
       "2 2018-02-07 18:01:05  961298788219420672           8332        Media Studio   \n",
       "3 2018-02-07 16:10:00  961270833569202176          31114  Twitter for iPhone   \n",
       "4 2018-02-07 14:59:49  961253168968622080          16301  Twitter for iPhone   \n",
       "\n",
       "                                                text  weekday  hour  year  \\\n",
       "0  The Budget Agreement today is so important for...        2    22  2018   \n",
       "1  Congratulations to the Republic of Korea on wh...        2    22  2018   \n",
       "2  Best wishes to the Republic of Korea on hostin...        2    18  2018   \n",
       "3                      NEW FBI TEXTS ARE BOMBSHELLS!        2    16  2018   \n",
       "4  In the â€œold days,â€� when good news was repo...        2    14  2018   \n",
       "\n",
       "  weekday_str  month  \n",
       "0   Wednesday      2  \n",
       "1   Wednesday      2  \n",
       "2   Wednesday      2  \n",
       "3   Wednesday      2  \n",
       "4   Wednesday      2  "
      ]
     },
     "execution_count": 56,
     "metadata": {},
     "output_type": "execute_result"
    }
   ],
   "source": [
    "from datetime import date\n",
    "\n",
    "days = ['Monday','Tuesday','Wednesday','Thursday','Friday','Saturday','Sunday']\n",
    "\n",
    "df['weekday'] = df.apply(lambda row: row['created_at'].dayofweek, axis=1)\n",
    "df['hour'] = df.apply(lambda row: row['created_at'].hour, axis=1)\n",
    "df['year'] = df.apply(lambda row: row['created_at'].year, axis=1)\n",
    "df['month'] = df.apply(lambda row: row['created_at'].month, axis=1)\n",
    "df['weekday_str'] = df.apply(lambda row: days[row['weekday']], axis=1)\n",
    "\n",
    "df.head()"
   ]
  },
  {
   "cell_type": "code",
   "execution_count": 57,
   "metadata": {},
   "outputs": [
    {
     "data": {
      "text/plain": [
       "Text(0.5,1,'Tweet Frequency')"
      ]
     },
     "execution_count": 57,
     "metadata": {},
     "output_type": "execute_result"
    },
    {
     "data": {
      "image/png": "[encoded data removed]",
      "text/plain": [
       "<matplotlib.figure.Figure at 0xea9431dc18>"
      ]
     },
     "metadata": {},
     "output_type": "display_data"
    }
   ],
   "source": [
    "import seaborn as sns\n",
    "%matplotlib inline\n",
    "\n",
    "grouped = df.groupby(['year','weekday'])\n",
    "cntdf = pd.DataFrame({'count' : grouped.size()}).reset_index()\n",
    "piv = cntdf.pivot('year','weekday','count')\n",
    "sns.heatmap(piv, cmap=\"YlGnBu\").set_title('Tweet Frequency')"
   ]
  },
  {
   "cell_type": "code",
   "execution_count": 58,
   "metadata": {},
   "outputs": [
    {
     "data": {
      "text/plain": [
       "<matplotlib.axes._subplots.AxesSubplot at 0xea9dfc2ac8>"
      ]
     },
     "execution_count": 58,
     "metadata": {},
     "output_type": "execute_result"
    },
    {
     "data": {
      "image/png": "[encoded data removed]",
      "text/plain": [
       "<matplotlib.figure.Figure at 0xea9d4e25c0>"
      ]
     },
     "metadata": {},
     "output_type": "display_data"
    }
   ],
   "source": [
    "grouped2 = df.groupby(['weekday','hour'])\n",
    "cntdf2 = pd.DataFrame({'count' : grouped2.size()}).reset_index()\n",
    "piv2 = cntdf2.pivot('weekday','hour','count')\n",
    "sns.heatmap(piv2, cmap=\"YlGnBu\").set_title('Tweet Frequency')"
   ]
  },
  {
   "cell_type": "code",
   "execution_count": 60,
   "metadata": {},
   "outputs": [
    {
     "data": {
      "text/plain": [
       "Text(0.5,1,'Tweet Frequency')"
      ]
     },
     "execution_count": 60,
     "metadata": {},
     "output_type": "execute_result"
    },
    {
     "data": {
      "image/png": "[encoded data removed]",
      "text/plain": [
       "<matplotlib.figure.Figure at 0xea9fe8d710>"
      ]
     },
     "metadata": {},
     "output_type": "display_data"
    }
   ],
   "source": [
    "grouped2 = df.groupby(['year','month'])\n",
    "cntdf2 = pd.DataFrame({'count' : grouped2.size()}).reset_index()\n",
    "piv2 = cntdf2.pivot('year','month','count')\n",
    "sns.heatmap(piv2, cmap=\"YlGnBu\").set_title('Tweet Frequency')"
   ]
  },
  {
   "cell_type": "code",
   "execution_count": null,
   "metadata": {},
   "outputs": [],
   "source": []
  }
 ],
 "metadata": {
  "kernelspec": {
   "display_name": "Python 3",
   "language": "python",
   "name": "python3"
  },
  "language_info": {
   "codemirror_mode": {
    "name": "ipython",
    "version": 3
   },
   "file_extension": ".py",
   "mimetype": "text/x-python",
   "name": "python",
   "nbconvert_exporter": "python",
   "pygments_lexer": "ipython3",
   "version": "3.6.3"
  }
 },
 "nbformat": 4,
 "nbformat_minor": 2
}
